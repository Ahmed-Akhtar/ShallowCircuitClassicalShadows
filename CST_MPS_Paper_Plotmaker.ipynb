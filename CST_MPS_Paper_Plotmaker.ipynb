{
 "cells": [
  {
   "cell_type": "markdown",
   "metadata": {},
   "source": [
    "# PLOTMAKER \n",
    "##### Make all plots for CST paper in this notebook"
   ]
  },
  {
   "cell_type": "code",
   "execution_count": 108,
   "metadata": {},
   "outputs": [
    {
     "data": {
      "text/plain": [
       "device(type='cpu')"
      ]
     },
     "execution_count": 108,
     "metadata": {},
     "output_type": "execute_result"
    }
   ],
   "source": [
    "from context import * #\n",
    "import torch\n",
    "import pickle\n",
    "import scipy\n",
    "import itertools\n",
    "import math\n",
    "import matplotlib\n",
    "import matplotlib.pyplot as plt\n",
    "import random\n",
    "from MPS import MPS #\n",
    "import random \n",
    "from EF_MPS_utils import * #\n",
    "from stabilizer_mps_utils import * #\n",
    "torch.set_default_dtype(torch.float64)\n",
    "from IPython.display import clear_output\n",
    "import timeit\n",
    "from scipy.optimize import curve_fit\n",
    "\n",
    "%matplotlib inline\n",
    "\n",
    "if torch.cuda.is_available():\n",
    "    device = torch.device('cuda')\n",
    "else:\n",
    "    device = torch.device('cpu')\n",
    "\n",
    "#generate random snapshots\n",
    "def make_snapshot(rho0,L):\n",
    "    comp_basis=paulis(pauli({i:'Z'}, n) for i in range(n))\n",
    "    if math.inf>L>0:\n",
    "        u=identity_map(n)\n",
    "        for step in range(L):\n",
    "            u=u.compose(random_brickwall_layer(n,step%2))\n",
    "    elif L==0:\n",
    "        u=random_pauli_map(n)\n",
    "    else :\n",
    "        u=random_clifford_map(n)\n",
    "    rhof=rho0.to_map().compose(u).to_state()\n",
    "    b=rhof.measure(comp_basis)[0]\n",
    "    sigma=paulis(((-1)**(b[i]))*pauli({i:'Z'}, n) for i in range(n))\n",
    "    return stabilizer_state(sigma).to_map().compose(u.inverse()).to_state()\n",
    "\n",
    "#load reconstruction vector, return mps and boundary matrix\n",
    "def load_rmps(n,d,Dw,Dr,t,acc,path='',device=torch.device('cpu')):\n",
    "    if math.inf>t>0:\n",
    "        filename='HaarReconstructionMPS_N=%d_d=%d_Dw=%d_Dr=%d_t=%d_%d.pt' % (n,d,Dw,Dr,t,acc)\n",
    "        result=torch.load(path+filename,map_location=device)\n",
    "        eigs,ut,Am=result[\"eigs\"].to(device),result[\"ut\"].to(device),result[\"Am\"].to(device)\n",
    "        rmps=r_vector(n,d,eigs,ut,Am)\n",
    "        #check if there's a boundary tensor\n",
    "        if \"bdiag\" in result :\n",
    "            bdiag=result[\"bdiag\"].to(device)\n",
    "            rbdry=torch.diag(torch.tanh(bdiag))\n",
    "        else :\n",
    "            rbdry=None\n",
    "    elif t==0 :\n",
    "        rmps=MPS(torch.tensor([1.,-3./2.,-3./2.,9./4.]).reshape(1,1,1,4))\n",
    "        rbdry=None\n",
    "    else:\n",
    "        #random Clifford case\n",
    "        rbdry=torch.diag(torch.tensor([-1.,1.]))\n",
    "        rmats=torch.zeros((1,2,2,4))\n",
    "        rmats[0,0,0,0]=1\n",
    "        rmats[0,1,1,3]=(1+d**(-n))**(2/n)\n",
    "        rmps=MPS(rmats)\n",
    "    return rmps,rbdry\n",
    "\n",
    "#load ef mps \n",
    "def load_efmps(tmat,n,DwLoad,Dw,t,Wacc,path='',device=torch.device('cpu'),alpha=0.34657359028):\n",
    "    if DwLoad>0:\n",
    "        #load result\n",
    "        result=torch.load('EFMPS_N=%d_d=%d_Dw1=%d_Dw2=%d_t=%d_%d.pt' % (n,2,DwLoad,Dw,t,Wacc),map_location=device)\n",
    "        W=MPS(result[\"mats\"].to(device)).to(device)\n",
    "        return W\n",
    "    else :\n",
    "        if t<math.inf :\n",
    "            W=MPS(product_state_mps(1,cell_size=2).mats.float())\n",
    "            for step in range(t):\n",
    "                W=ef_normalize(evolve_mps(tmat,W,Dw,(t-step-1)%2),n)\n",
    "            W=W.to(device)\n",
    "            return W\n",
    "        else :\n",
    "            #final ef state with slope alpha\n",
    "            return ef_mps(n,2,alpha,0).to(device)\n",
    "            \n",
    "d=2\n",
    "VX=torch.tensor([[[[1, 0], [0, 0]], [[1, 0], [0, 0]]], [[[1, 0], [0, 0]], [[d**2/(-1 + d**2), -(d/(-1 + d**2))], [-(d/(-1 + d**2)), \n",
    "    d**2/(-1 + d**2)]]]],dtype=torch.float64)\n",
    "VX2=torch.einsum('abcd,efgh->aebfcgdh',VX,VX).view(4,4,4,4)\n",
    "\n",
    "#return the onsite tensor for the EF of a Pauli operator\n",
    "def pauliEF(supp, i):\n",
    "    return torch.tensor([0,2],dtype=torch.float64).view(1,1,2) if i in supp else \\\n",
    "        torch.tensor([4,2],dtype=torch.float64).view(1,1,2)\n",
    "\n",
    "#return EF of product state with on-site purity f\n",
    "def mixedEF(f):\n",
    "    return MPS(torch.tensor([1,f], dtype=torch.float64).view(1,1,1,2))\n",
    "\n",
    "#combine neighboring onsite tensors\n",
    "def coarseGrain(mps):\n",
    "    return MPS(torch.tensordot(mps.mats[0],mps.mats[-1],dims=([1],[0])).transpose(1,2).reshape(1,mps.mats.shape[1],mps.mats.shape[2],-1))\n",
    "    \n",
    "#return EF tensor of ghz state\n",
    "def ghzEF(n):\n",
    "    au=torch.diag(torch.tensor([1,0,1],dtype=torch.float64))\n",
    "    ad=torch.diag(torch.tensor([0,1,1],dtype=torch.float64))\n",
    "    return MPS((torch.stack([au,ad],dim=2)/2**(1/n)).view(1,3,3,2))\n",
    "\n",
    "\n",
    "#ef of cluster state\n",
    "def clusterEF(n):\n",
    "    a,b,zero=[0.5,0.5,0.5,0.5],[0.5,-0.5,-0.5,0.5],[0.,0.,0.,0.]\n",
    "    T=torch.tensor([a,zero,zero,b],dtype=torch.float64)\n",
    "    swap=torch.eye(4).reshape(2,2,2,2).transpose(2,3)\n",
    "    swapid=torch.einsum('abcd,efgh->aebfcgdh',torch.eye(4).reshape(2,2,2,2),swap).reshape(16,16)\n",
    "    au=kron(T,T)\n",
    "    ad=swapid.double() @ kron(T,T) @ swapid.double()\n",
    "    return MPS((torch.stack([au,ad],dim=2)).view(1,16,16,2))\n",
    "\n",
    "#form matrix from 4-degree vertex and surroudning tensors\n",
    "def merge4matrix(vertex,aa,bb,cc,dd):\n",
    "    size=aa.size(0)*bb.size(0)*cc.size(0)*dd.size(0)\n",
    "    m=torch.tensordot(vertex,aa,dims=([0],[2]))\n",
    "    m=torch.tensordot(m,bb,dims=([0],[2]))\n",
    "    m=torch.tensordot(m,cc,dims=([0],[2]))\n",
    "    m=torch.tensordot(m,dd,dims=([0],[2]))\n",
    "    m=m.permute(0,2,4,6,1,3,5,7).reshape(size,size) \n",
    "    return m\n",
    "\n",
    "#perform median of means estimation given numpy array\n",
    "def MOM(samples,numgroups,axis=0):\n",
    "    sections=numpy.array_split(samples,numgroups,axis=axis)\n",
    "    means=[numpy.mean(sec,axis=axis) for sec in sections]\n",
    "    return numpy.median(numpy.stack(means,axis=0),axis=0)\n",
    "\n",
    "#predicted scaling form as a function of circuit depth x\n",
    "def scalingForm(x,n):\n",
    "    return (1 + (-1 + 2**2**x + 4**2**x)**(n/2**x))/(2**n + 4**n)\n",
    "\n",
    "device"
   ]
  },
  {
   "cell_type": "code",
   "execution_count": 2,
   "metadata": {},
   "outputs": [],
   "source": [
    "n=22\n",
    "Lmax=6\n",
    "wgts=list(range(22))\n",
    "path=''\n",
    "DwList=[1,4,4,6,6,6]\n",
    "DrList=[1,4,4,6,6,6]\n",
    "DwTrainList=[-1,-1,-1,8,20,20]\n",
    "DwTrainAcc=[-1,-1,-1,6,5,5]\n",
    "accList=[-1,7,7,5,3,3]\n",
    "OpSupps=[list(range(wgt)) for wgt in wgts]\n",
    "#results\n",
    "shadowNorms=numpy.zeros((Lmax,len(wgts)))\n",
    "for L in range(Lmax):\n",
    "    #load r\n",
    "    rmps,rbdry=load_rmps(n,2,DwList[L],DrList[L],L,accList[L],path=path,device=device)\n",
    "    W=load_efmps(ef_haar_tm(2),n,DwTrainList[L],DwList[L],L,DwTrainAcc[L],path=path,device=device)\n",
    "    W2=MPS(torch.tensordot(W.mats[0],W.mats[-1],dims=([1],[0])).transpose(1,2).reshape(1,W.mats.shape[1],W.mats.shape[2],4))\n",
    "    size=W2.mats.shape[1]*(rmps.mats.shape[1])**2\n",
    "    for op in range(len(wgts)):\n",
    "        prod=torch.eye(size).to(device)\n",
    "        supp=OpSupps[op]\n",
    "        for uc in range(n//2):\n",
    "            wpauli=kron(pauliEF(supp,2*uc).view(1,2),pauliEF(supp,2*uc+1).view(1,2)).view(1,1,4)\n",
    "            prod=prod @ merge4matrix(VX2,rmps.mats[0],rmps.mats[0],W2.mats[0].double(),wpauli)\n",
    "        if not rbdry==None :\n",
    "            prod = prod @ kron(kron(rbdry,rbdry),torch.eye(W2.mats.shape[1]))\n",
    "        shadowNorms[L,op]=prod.trace()"
   ]
  },
  {
   "cell_type": "code",
   "execution_count": 137,
   "metadata": {},
   "outputs": [],
   "source": [
    "numpy.ndarray.flatten(shadowNorms).tofile('data_for_mathematica/shadowNorms.dat')"
   ]
  },
  {
   "cell_type": "code",
   "execution_count": 143,
   "metadata": {},
   "outputs": [
    {
     "data": {
      "text/plain": [
       "dtype('float64')"
      ]
     },
     "execution_count": 143,
     "metadata": {},
     "output_type": "execute_result"
    }
   ],
   "source": [
    "shadowNorms.dtype"
   ]
  },
  {
   "cell_type": "code",
   "execution_count": 3,
   "metadata": {},
   "outputs": [],
   "source": [
    "#sys parameters\n",
    "n=22\n",
    "Lmax=6\n",
    "wgts=list(range(10))\n",
    "path=''\n",
    "DwList=[1,4,4,6,6,6]\n",
    "DrList=[1,4,4,6,6,6]\n",
    "DwTrainList=[-1,-1,-1,8,20,20]\n",
    "DwTrainAcc=[-1,-1,-1,6,5,5]\n",
    "accList=[-1,7,7,5,3,3]\n",
    "testOps=[pauli('Z'*(wgt) + 'I'*(n-wgt)) for wgt in wgts]\n",
    "OpSupps=[list(range(wgt)) for wgt in wgts]\n",
    "M=50000\n",
    "rho0=ghz_state(n)\n",
    "psi0=cluster_state(n)\n",
    "#results\n",
    "preds_ghz=numpy.zeros((Lmax,len(wgts),M))\n",
    "preds_cluster=numpy.zeros((Lmax,len(wgts),M))\n",
    "for L in range(Lmax):\n",
    "    #load r\n",
    "    rmps,rbdry=load_rmps(n,2,DwList[L],DrList[L],L,accList[L],path=path,device=device)\n",
    "    coeffs=torch.zeros(len(wgts))\n",
    "    for os in range(len(wgts)):\n",
    "        osmps=support_vector(OpSupps[os],n,factor=4)\n",
    "        #print(osmps.mats.dtype, rmps.mats.dtype)\n",
    "        coeffs[os]=rmps.dot2(osmps,cell_num=1,bdry=rbdry).item().real\n",
    "    for snap in range(M):\n",
    "        state_ghz=make_snapshot(rho0,L)\n",
    "        state_cluster=make_snapshot(psi0,L)\n",
    "        for i in range(len(wgts)):\n",
    "            preds_ghz[L,i,snap]=coeffs[i]*state_ghz.expect(paulis(testOps[i]))[0]\n",
    "            preds_cluster[L,i,snap]=coeffs[i]*state_cluster.expect(paulis(testOps[i]))[0]"
   ]
  },
  {
   "cell_type": "code",
   "execution_count": 138,
   "metadata": {},
   "outputs": [],
   "source": [
    "numpy.ndarray.flatten(preds_ghz).tofile('data_for_mathematica/preds_ghz.dat')\n",
    "numpy.ndarray.flatten(preds_cluster).tofile('data_for_mathematica/preds_cluster.dat')"
   ]
  },
  {
   "cell_type": "code",
   "execution_count": 127,
   "metadata": {},
   "outputs": [
    {
     "data": {
      "text/plain": [
       "[<matplotlib.axis.XTick at 0x7f92523048b0>,\n",
       " <matplotlib.axis.XTick at 0x7f9252304880>,\n",
       " <matplotlib.axis.XTick at 0x7f9241c4a400>,\n",
       " <matplotlib.axis.XTick at 0x7f9232365070>,\n",
       " <matplotlib.axis.XTick at 0x7f9232365580>,\n",
       " <matplotlib.axis.XTick at 0x7f9232365a90>]"
      ]
     },
     "execution_count": 127,
     "metadata": {},
     "output_type": "execute_result"
    },
    {
     "data": {
      "image/png": "[encoded data removed]",
      "text/plain": [
       "<Figure size 432x288 with 1 Axes>"
      ]
     },
     "metadata": {
      "needs_background": "light"
     },
     "output_type": "display_data"
    }
   ],
   "source": [
    "font = {'family' : 'sans-serif',\n",
    "        'weight' : 'normal',\n",
    "        'size'   : 18}\n",
    "\n",
    "matplotlib.rc('font', **font)\n",
    "matplotlib.rc('xtick', labelsize=18)\n",
    "\n",
    "fig,ax=plt.subplots()\n",
    "\n",
    "xmax=7\n",
    "ys_ghz=MOM(preds_ghz,1,axis=2)\n",
    "ys_ghz_err=numpy.std(preds_ghz,axis=2)/numpy.sqrt(M)\n",
    "ys_cluster=MOM(preds_cluster,1,axis=2)\n",
    "ys_cluster_err=numpy.std(preds_cluster,axis=2)/numpy.sqrt(M)\n",
    "\n",
    "ax.axhline(y=0,color='k',linestyle='--')\n",
    "ax.axhline(y=1,color='k',linestyle='--')\n",
    "\n",
    "#ax.plot(list(range(xmax)), [x%2 for x in range(1,xmax+1)],'k*--') #exact answer\n",
    "#ax.plot(list(range(xmax)), [0]*xmax, 'k*--')\n",
    "for L in [3]:\n",
    "    ax.errorbar(list(range(xmax)),ys_cluster[L,:xmax],yerr=2*ys_cluster_err[L,:xmax],fmt='bs',label=r'$L=%d$' % L)\n",
    "    ax.errorbar(list(range(xmax)),ys_ghz[L,:xmax],yerr=2*ys_ghz_err[L,:xmax],fmt='r^',label=r'$L=%d$' % L)\n",
    "\n",
    "#ax.plot(list(range(len(wgts))),shadowNorms[4]/shadowNorms[0],'ko-',label=r'$L=4$')\n",
    "\n",
    "#ax.legend()\n",
    "ax.set_xlabel(r'$ k $')\n",
    "ax.set_ylabel(r'$ \\overline{\\langle Z^{\\otimes k} \\rangle} $')\n",
    "ax.set_yscale(\"linear\")\n",
    "ax.set_ylim(-0.3,1.3)\n",
    "ax.set_xlim(0.5,xmax-0.5)\n",
    "ax.set_yticks([0,0,0.5,1])\n",
    "ax.set_xticks(list(range(1,xmax)))\n",
    "#plt.savefig(\"pauli_obs_ghz_cluster.pdf\",bbox_inches='tight')"
   ]
  },
  {
   "cell_type": "code",
   "execution_count": 139,
   "metadata": {},
   "outputs": [],
   "source": [
    "numpy.ndarray.flatten(ys_ghz).tofile('data_for_mathematica/ys_ghz.dat')\n",
    "numpy.ndarray.flatten(ys_cluster).tofile('data_for_mathematica/ys_cluster.dat')\n",
    "numpy.ndarray.flatten(ys_ghz_err).tofile('data_for_mathematica/ys_ghz_err.dat')\n",
    "numpy.ndarray.flatten(ys_cluster_err).tofile('data_for_mathematica/ys_cluster_err.dat')"
   ]
  },
  {
   "cell_type": "code",
   "execution_count": 146,
   "metadata": {},
   "outputs": [
    {
     "data": {
      "text/plain": [
       "dtype('float64')"
      ]
     },
     "execution_count": 146,
     "metadata": {},
     "output_type": "execute_result"
    }
   ],
   "source": [
    "ys_cluster_err.dtype"
   ]
  },
  {
   "cell_type": "code",
   "execution_count": 131,
   "metadata": {},
   "outputs": [
    {
     "data": {
      "image/png": "[encoded data removed]",
      "text/plain": [
       "<Figure size 432x288 with 1 Axes>"
      ]
     },
     "metadata": {
      "needs_background": "light"
     },
     "output_type": "display_data"
    }
   ],
   "source": [
    "font = {'family' : 'sans-serif',\n",
    "        'weight' : 'normal',\n",
    "        'size'   : 18}\n",
    "\n",
    "matplotlib.rc('font', **font)\n",
    "matplotlib.rc('xtick', labelsize=18)\n",
    "\n",
    "fig,ax=plt.subplots()\n",
    "xmax=7\n",
    "xvals=list(range(1,xmax))\n",
    "colors=['g','b','r']\n",
    "Lvals=[1,3,5]\n",
    "\n",
    "for i in range(len(Lvals)):\n",
    "    L,c=Lvals[i],colors[i]\n",
    "    sn_exact=shadowNorms[L,1:xmax]/shadowNorms[0,1:xmax]\n",
    "    sn_ghz=(ys_ghz_err[L,1:xmax]/ys_ghz_err[0,1:xmax])**2\n",
    "    sn_cluster=(ys_cluster_err[L,1:xmax]/ys_cluster_err[0,1:xmax])**2\n",
    "\n",
    "    ax.plot(xvals,sn_exact,c+'.--',label=r'$L=%d$'%L)\n",
    "    ax.plot(xvals,sn_cluster,'s')\n",
    "    ax.plot(xvals,sn_ghz,'^')\n",
    "\n",
    "ax.legend()\n",
    "ax.set_xlabel(r'$ | O | $')\n",
    "ax.set_ylabel(r'$ [$var $O]_{L} \\,/\\, [$ var $O]_{0} $')\n",
    "ax.set_yscale(\"log\")\n",
    "ax.set_ylim(0.1,40)\n",
    "#ax.set_xticks(list(range(0,xmax,2)))\n",
    "plt.savefig(\"pauli_var_exact_cluster_ghz.pdf\",bbox_inches='tight')"
   ]
  },
  {
   "cell_type": "code",
   "execution_count": 68,
   "metadata": {},
   "outputs": [
    {
     "data": {
      "image/png": "[encoded data removed]",
      "text/plain": [
       "<Figure size 432x288 with 1 Axes>"
      ]
     },
     "metadata": {
      "needs_background": "light"
     },
     "output_type": "display_data"
    }
   ],
   "source": [
    "font = {'family' : 'sans-serif',\n",
    "        'weight' : 'normal',\n",
    "        'size'   : 18}\n",
    "\n",
    "matplotlib.rc('font', **font)\n",
    "matplotlib.rc('xtick', labelsize=18)\n",
    "\n",
    "fig,ax=plt.subplots()\n",
    "plt_wgts=[3,7,11]\n",
    "pts=[]\n",
    "for wg in plt_wgts:\n",
    "    pts.append([(shadowNorms[i,wg] / shadowNorms[0,wg]) for i in range(0,Lmax)])\n",
    "    ax.plot(list(range(0,Lmax)),pts[-1],'o-',label=r'$|O|=%d$'%wg)\n",
    "\n",
    "ax.legend(prop={'size':14.5})\n",
    "ax.set_xlabel(r'$L$')\n",
    "ax.set_ylabel(r'$ \\parallel O \\parallel_{\\xi_\\sigma}^2 \\,/\\, \\parallel O \\parallel_{P}^2  $')\n",
    "ax.set_yscale(\"log\")\n",
    "plt.savefig(\"pauli_var_exact_cluster_ghz_2.pdf\",bbox_inches='tight')"
   ]
  },
  {
   "cell_type": "code",
   "execution_count": 153,
   "metadata": {},
   "outputs": [],
   "source": [
    "#sys parameters \n",
    "L=3\n",
    "nvals=[6,10,14,18,22]\n",
    "accList=[8,8,5,5,5]\n",
    "fidelities=[]\n",
    "for i in range(len(nvals)) : \n",
    "    directory='n=%d_t=%d_fids/' % (nvals[i],L)\n",
    "    fname='cluster_fids_n=%d_t=%d_%d.csv' % (nvals[i],L,accList[i])\n",
    "    fidelities.append(numpy.loadtxt(directory + fname))"
   ]
  },
  {
   "cell_type": "code",
   "execution_count": 141,
   "metadata": {},
   "outputs": [],
   "source": [
    "numpy.ndarray.flatten(numpy.concatenate(fidelities, axis=0)).tofile('data_for_mathematica/fids_vs_n.dat')"
   ]
  },
  {
   "cell_type": "code",
   "execution_count": 154,
   "metadata": {},
   "outputs": [
    {
     "name": "stdout",
     "output_type": "stream",
     "text": [
      "cluster fit: [9.82828608e-06 3.97779569e-01]\n"
     ]
    },
    {
     "data": {
      "text/plain": [
       "[<matplotlib.axis.XTick at 0x7f92331df550>,\n",
       " <matplotlib.axis.XTick at 0x7f92331df520>,\n",
       " <matplotlib.axis.XTick at 0x7f92331dc0a0>,\n",
       " <matplotlib.axis.XTick at 0x7f9239d1d610>,\n",
       " <matplotlib.axis.XTick at 0x7f9239d1db20>]"
      ]
     },
     "execution_count": 154,
     "metadata": {},
     "output_type": "execute_result"
    },
    {
     "data": {
      "image/png": "[encoded data removed]",
      "text/plain": [
       "<Figure size 432x288 with 2 Axes>"
      ]
     },
     "metadata": {
      "needs_background": "light"
     },
     "output_type": "display_data"
    }
   ],
   "source": [
    "font = {'family' : 'sans-serif',\n",
    "        'weight' : 'normal',\n",
    "        'size'   : 18}\n",
    "\n",
    "matplotlib.rc('font', **font)\n",
    "matplotlib.rc('xtick', labelsize=18)\n",
    "\n",
    "fig,ax=plt.subplots()\n",
    "\n",
    "# These are in unitless percentages of the figure size. (0,0 is bottom left)\n",
    "left, bottom, width, height = [0.4, 0.2, 0.4, 0.4]\n",
    "ax2 = fig.add_axes([left, bottom, width, height])\n",
    "\n",
    "ys,yerrs=[],[]\n",
    "for i in range(len(fidelities)) :\n",
    "    fids=fidelities[i]\n",
    "    ys.append(MOM(fids,1,axis=0))\n",
    "    yerrs.append(numpy.std(fids)/numpy.sqrt(len(fids)))\n",
    "\n",
    "ax.axhline(y=1,color='k',linestyle='--')\n",
    "ax.errorbar(nvals,ys,yerr=2*numpy.array(yerrs),fmt='bs',label=r'cluster')\n",
    "\n",
    "def fitfunc(x,b,c):\n",
    "    return numpy.exp(c*x/(L+1)**0.72)*b\n",
    "\n",
    "popt, pcov = curve_fit(fitfunc, numpy.array(nvals), numpy.array(yerrs)**2, p0=[1E-5,0.47])\n",
    "print('cluster fit:',popt)\n",
    "xrange=numpy.arange(min(nvals),max(nvals)+0.2,0.1)\n",
    "ax2.plot(xrange, fitfunc(xrange, *popt),'k--')\n",
    "ax2.plot(nvals,numpy.array(yerrs)**2,'bs',label=r'cluster')\n",
    "\n",
    "ax.set_xlabel(r'$n$')\n",
    "ax.set_ylabel(r'$\\langle \\hat{F} \\rangle$')\n",
    "ax.set_yscale(\"linear\")\n",
    "ax.set_ylim(0.2,1.15)\n",
    "ax2.set_yscale(\"log\")\n",
    "ax2.set_xticks([])\n",
    "ax2.set_yticks([4E-5,2E-4])\n",
    "ax2.set_title(r'var $F$')\n",
    "#ax.legend(prop={'size':17})\n",
    "#ax.set_yticks([0.9,1,1.1])\n",
    "ax.set_xticks(nvals)\n",
    "#plt.savefig(\"fid_cluster_vs_n_2.pdf\",bbox_inches='tight')"
   ]
  },
  {
   "cell_type": "code",
   "execution_count": 156,
   "metadata": {},
   "outputs": [],
   "source": [
    "numpy.ndarray.flatten(numpy.array(ys)).tofile('data_for_mathematica/yvn.dat')\n",
    "numpy.ndarray.flatten(numpy.array(yerrs)).tofile('data_for_mathematica/yerrvn.dat')"
   ]
  },
  {
   "cell_type": "code",
   "execution_count": 159,
   "metadata": {},
   "outputs": [],
   "source": [
    "#sys parameters \n",
    "n=22\n",
    "Lvals=[0,1,2,3,4,5]\n",
    "accList=[12,7,7,5,3,3]\n",
    "fidelities=[]\n",
    "fidelities2=[]\n",
    "for i in range(len(Lvals)) : \n",
    "    directory='n=%d_t=%d_fids/' % (n,Lvals[i])\n",
    "    fname='fids_n=%d_t=%d_%d.csv' % (n,Lvals[i],accList[i])\n",
    "    fidelities.append(numpy.loadtxt(directory + 'cluster_' + fname))\n",
    "    fidelities2.append(numpy.loadtxt(directory + fname))"
   ]
  },
  {
   "cell_type": "code",
   "execution_count": 142,
   "metadata": {},
   "outputs": [],
   "source": [
    "numpy.ndarray.flatten(numpy.concatenate(fidelities, axis=0)).tofile('data_for_mathematica/fids_cluster_vs_L.dat')\n",
    "numpy.ndarray.flatten(numpy.concatenate(fidelities2, axis=0)).tofile('data_for_mathematica/fids_ghz_vs_L.dat')"
   ]
  },
  {
   "cell_type": "code",
   "execution_count": 152,
   "metadata": {},
   "outputs": [
    {
     "data": {
      "text/plain": [
       "5"
      ]
     },
     "execution_count": 152,
     "metadata": {},
     "output_type": "execute_result"
    }
   ],
   "source": [
    "numpy.ndarray.flatten(numpy.concatenate(fidelities, axis=0)).shape[0] // 50000"
   ]
  },
  {
   "cell_type": "code",
   "execution_count": 160,
   "metadata": {},
   "outputs": [
    {
     "name": "stdout",
     "output_type": "stream",
     "text": [
      "cluster fit: [1.54592979e-01 6.78934293e-08]\n"
     ]
    },
    {
     "name": "stderr",
     "output_type": "stream",
     "text": [
      "<ipython-input-160-d8e40eb8c72a>:29: RuntimeWarning: overflow encountered in exp\n",
      "  return numpy.exp(0.47*n/(x+1)**a)*b\n"
     ]
    },
    {
     "data": {
      "text/plain": [
       "[<matplotlib.axis.YTick at 0x7f92399360a0>,\n",
       " <matplotlib.axis.YTick at 0x7f923990ec40>,\n",
       " <matplotlib.axis.YTick at 0x7f9239933280>]"
      ]
     },
     "execution_count": 160,
     "metadata": {},
     "output_type": "execute_result"
    },
    {
     "data": {
      "image/png": "[encoded data removed]",
      "text/plain": [
       "<Figure size 432x288 with 2 Axes>"
      ]
     },
     "metadata": {
      "needs_background": "light"
     },
     "output_type": "display_data"
    }
   ],
   "source": [
    "font = {'family' : 'sans-serif',\n",
    "        'weight' : 'normal',\n",
    "        'size'   : 18}\n",
    "\n",
    "matplotlib.rc('font', **font)\n",
    "matplotlib.rc('xtick', labelsize=18)\n",
    "\n",
    "fig,ax=plt.subplots()\n",
    "\n",
    "# These are in unitless percentages of the figure size. (0,0 is bottom left)\n",
    "left, bottom, width, height = [0.4, 0.2, 0.4, 0.4]\n",
    "ax2 = fig.add_axes([left, bottom, width, height])\n",
    "\n",
    "ys,yerrs=[],[]\n",
    "ys2,yerrs2=[],[]\n",
    "for i in range(len(fidelities)) :\n",
    "    fids,fids2=fidelities[i],fidelities2[i]\n",
    "    ys.append(MOM(fids,12,axis=0))\n",
    "    yerrs.append(numpy.std(fids)/numpy.sqrt(len(fids)))\n",
    "    ys2.append(MOM(fids2,12,axis=0))\n",
    "    yerrs2.append(numpy.std(fids2)/numpy.sqrt(len(fids2)))\n",
    "\n",
    "ys,yerrs,ys2,yerrs2=numpy.array(ys),numpy.array(yerrs),numpy.array(ys2),numpy.array(yerrs2)\n",
    "ax.axhline(y=1,color='k',linestyle='--')\n",
    "ax.errorbar(Lvals,ys2,yerr=2*yerrs2,fmt='r^',label=r'ghz')\n",
    "ax.errorbar(Lvals,ys,yerr=2*yerrs,fmt='bs',label=r'cluster')\n",
    "\n",
    "def fitfunc(x,a,b):\n",
    "    return numpy.exp(0.47*n/(x+1)**a)*b\n",
    "\n",
    "popt, pcov = curve_fit(fitfunc, numpy.array(Lvals), yerrs**2, p0=[0.72,1E-5])\n",
    "print('cluster fit:',popt)\n",
    "xrange=numpy.arange(min(Lvals),max(Lvals)+0.2,0.1)\n",
    "#ax2.plot(xrange, fitfunc(xrange, *popt),'k--')\n",
    "\n",
    "ax2.plot(Lvals,yerrs**2,'r^',label=r'cluster')\n",
    "ax2.plot(Lvals,yerrs2**2,'bs',label=r'ghz')\n",
    "ax2.set_yscale(\"log\")\n",
    "ax2.set_xticks([])\n",
    "ax2.set_title(r'var $F$')\n",
    "ax.set_xlabel(r'$L$')\n",
    "ax.set_ylabel(r'$\\langle \\hat{F} \\rangle$')\n",
    "ax.set_yscale(\"linear\")\n",
    "ax.set_ylim(-0.2,1.2)\n",
    "#ax.legend(prop={'size':17})\n",
    "ax.set_yticks([0,0.5,1])\n",
    "#plt.savefig(\"fids_cluster_and_ghz.pdf\",bbox_inches='tight')"
   ]
  },
  {
   "cell_type": "code",
   "execution_count": 161,
   "metadata": {},
   "outputs": [],
   "source": [
    "numpy.ndarray.flatten(ys).tofile('data_for_mathematica/cluster-vl.dat')\n",
    "numpy.ndarray.flatten(yerrs).tofile('data_for_mathematica/cluster-err-vl.dat')\n",
    "numpy.ndarray.flatten(ys2).tofile('data_for_mathematica/ghz-vl.dat')\n",
    "numpy.ndarray.flatten(yerrs2).tofile('data_for_mathematica/ghz-err-vl.dat')"
   ]
  },
  {
   "cell_type": "code",
   "execution_count": null,
   "metadata": {},
   "outputs": [],
   "source": [
    "font = {'family' : 'sans-serif',\n",
    "        'weight' : 'normal',\n",
    "        'size'   : 25}\n",
    "\n",
    "matplotlib.rc('font', **font)\n",
    "matplotlib.rc('xtick', labelsize=25)\n",
    "\n",
    "fig,ax=plt.subplots()\n",
    "\n",
    "func,p0=func3,p3\n",
    "\n",
    "#load actual variance data\n",
    "ys,ysghz=[],[]\n",
    "M=50000\n",
    "for i in range(len(fidelities)) :\n",
    "    ys.append(numpy.var(fidelities[i]) / M)\n",
    "    ysghz.append(numpy.var(fidelities2[i]) / M)\n",
    "    \n",
    "ys=numpy.array(ys)\n",
    "ysghz=numpy.array(ysghz)\n",
    "#set xvalues to study\n",
    "xplot = numpy.array(list(range(len(fidelities))))\n",
    "xfit = numpy.array(list(range(len(fidelities))))[1:]\n",
    "\n",
    "#fit curves\n",
    "popt, pcov = curve_fit(func, xfit, numpy.log(ys[xfit]), p0=p0)\n",
    "print('cluster fit:',popt)\n",
    "ax.plot(numpy.arange(min(xplot),max(xplot)+0.2,0.1), numpy.exp(func(numpy.arange(min(xplot),max(xplot)+0.2,0.1), *popt)),'--')\n",
    "#fit curves\n",
    "popt, pcov = curve_fit(func, xfit, numpy.log(ysghz[xfit]), p0=p0)\n",
    "print('ghz fit:',popt)\n",
    "ax.plot(numpy.arange(min(xplot),max(xplot)+0.2,0.1), numpy.exp(func(numpy.arange(min(xplot),max(xplot)+0.2,0.1), *popt)),'--')\n",
    "\n",
    "ax.plot(xplot,ys,'ko',label=r'cluster')\n",
    "ax.plot(xplot,ysghz,'ro',label=r'ghz')\n",
    "\n",
    "#print(shadowNorms[0,1:(len(Lvals)+1)]/ys)\n",
    "#ax.axhline(y=numpy.sqrt(shadowNorms[0,-1])/numpy.sqrt(len(fids)),color='k',linestyle='--')\n",
    "#ax.set_xlabel(r'$L$')\n",
    "ax.set_ylabel(r'$\\langle (\\delta \\hat{F})^2 \\rangle / M$')\n",
    "ax.set_yscale(\"log\")\n",
    "ax.legend(prop={'size':20})\n",
    "ax.set_xticks(list(range(max(xplot)+1)))\n",
    "#ax.set_yticks([1E-2,1E-1])\n",
    "#plt.savefig(\"variance_comparison_cluster_ghz.pdf\",bbox_inches='tight')\n",
    "#ax.set_ylim(-0.05,0.2)"
   ]
  }
 ],
 "metadata": {
  "kernelspec": {
   "display_name": "Python 3",
   "language": "python",
   "name": "python3"
  },
  "language_info": {
   "codemirror_mode": {
    "name": "ipython",
    "version": 3
   },
   "file_extension": ".py",
   "mimetype": "text/x-python",
   "name": "python",
   "nbconvert_exporter": "python",
   "pygments_lexer": "ipython3",
   "version": "3.8.5"
  }
 },
 "nbformat": 4,
 "nbformat_minor": 4
}
